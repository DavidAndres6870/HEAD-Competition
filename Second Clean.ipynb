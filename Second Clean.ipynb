{
 "cells": [
  {
   "attachments": {},
   "cell_type": "markdown",
   "metadata": {},
   "source": [
    "# Second Data Cleaning"
   ]
  },
  {
   "attachments": {},
   "cell_type": "markdown",
   "metadata": {},
   "source": [
    "## Import libraries and read .csv file"
   ]
  },
  {
   "cell_type": "code",
   "execution_count": 1,
   "metadata": {},
   "outputs": [],
   "source": [
    "import numpy as np\n",
    "import pandas as pd\n",
    "import matplotlib.pyplot as plt\n",
    "from datetime import datetime, timedelta"
   ]
  },
  {
   "cell_type": "code",
   "execution_count": 4,
   "metadata": {},
   "outputs": [
    {
     "name": "stderr",
     "output_type": "stream",
     "text": [
      "C:\\Users\\david\\AppData\\Local\\Temp\\ipykernel_19200\\79250266.py:1: DtypeWarning: Columns (2) have mixed types. Specify dtype option on import or set low_memory=False.\n",
      "  df0 = pd.read_csv(\"datasets/Data2019_PostalCodes-blinded.csv\")\n"
     ]
    }
   ],
   "source": [
    "df0 = pd.read_csv(\"datasets/Data2019_PostalCodes-blinded.csv\")"
   ]
  },
  {
   "cell_type": "code",
   "execution_count": 5,
   "metadata": {},
   "outputs": [],
   "source": [
    "df = df0.copy()"
   ]
  },
  {
   "attachments": {},
   "cell_type": "markdown",
   "metadata": {},
   "source": [
    "Information of the dataset"
   ]
  },
  {
   "cell_type": "code",
   "execution_count": 8,
   "metadata": {},
   "outputs": [
    {
     "data": {
      "text/plain": [
       "Index(['Date', 'Booking ID', 'Requested Pickup Time', 'Week Day', 'Provider',\n",
       "       'Vehicle Type', 'Run', 'Space Type', 'Ambulatory', 'Origin Postal code',\n",
       "       'Pickup Arrival Time', 'Pickup Departure Time',\n",
       "       'Destination Postal code', 'Dropoff Arrival Time',\n",
       "       'Dropoff Departure Time', 'Trip Count'],\n",
       "      dtype='object')"
      ]
     },
     "execution_count": 8,
     "metadata": {},
     "output_type": "execute_result"
    }
   ],
   "source": [
    "df.columns"
   ]
  },
  {
   "cell_type": "code",
   "execution_count": 6,
   "metadata": {},
   "outputs": [
    {
     "name": "stdout",
     "output_type": "stream",
     "text": [
      "<class 'pandas.core.frame.DataFrame'>\n",
      "RangeIndex: 806712 entries, 0 to 806711\n",
      "Data columns (total 16 columns):\n",
      " #   Column                   Non-Null Count   Dtype \n",
      "---  ------                   --------------   ----- \n",
      " 0   Date                     806712 non-null  object\n",
      " 1   Booking ID               806712 non-null  int64 \n",
      " 2   Requested Pickup Time    806712 non-null  object\n",
      " 3   Week Day                 806712 non-null  int64 \n",
      " 4   Provider                 806712 non-null  object\n",
      " 5   Vehicle Type             806712 non-null  object\n",
      " 6   Run                      716638 non-null  object\n",
      " 7   Space Type               806712 non-null  object\n",
      " 8   Ambulatory               806712 non-null  object\n",
      " 9   Origin Postal code       786114 non-null  object\n",
      " 10  Pickup Arrival Time      790738 non-null  object\n",
      " 11  Pickup Departure Time    787011 non-null  object\n",
      " 12  Destination Postal code  784964 non-null  object\n",
      " 13  Dropoff Arrival Time     789116 non-null  object\n",
      " 14  Dropoff Departure Time   786636 non-null  object\n",
      " 15  Trip Count               806712 non-null  int64 \n",
      "dtypes: int64(3), object(13)\n",
      "memory usage: 98.5+ MB\n"
     ]
    }
   ],
   "source": [
    "df.info()"
   ]
  },
  {
   "attachments": {},
   "cell_type": "markdown",
   "metadata": {},
   "source": [
    "## Date\n",
    "The scheduled date of the trip"
   ]
  },
  {
   "attachments": {},
   "cell_type": "markdown",
   "metadata": {},
   "source": [
    "The Date field should has the format '%Y-%m-%d' instead '%Y-%m-%d %H:%M:%S'"
   ]
  },
  {
   "cell_type": "code",
   "execution_count": 47,
   "metadata": {},
   "outputs": [
    {
     "data": {
      "text/plain": [
       "0         2019-01-01\n",
       "1         2019-01-01\n",
       "2         2019-01-01\n",
       "3         2019-01-01\n",
       "4         2019-01-01\n",
       "             ...    \n",
       "806707    2019-12-30\n",
       "806708    2019-12-30\n",
       "806709    2019-12-31\n",
       "806710    2019-07-25\n",
       "806711    2019-11-07\n",
       "Name: Date, Length: 806712, dtype: object"
      ]
     },
     "execution_count": 47,
     "metadata": {},
     "output_type": "execute_result"
    }
   ],
   "source": [
    "df['Date']"
   ]
  },
  {
   "attachments": {},
   "cell_type": "markdown",
   "metadata": {},
   "source": [
    "The characters \"﻿\" at the beginning of the string are not visible but could be a Byte Order Mark (BOM) that can appear when working with text files encoded with UTF-8."
   ]
  },
  {
   "cell_type": "code",
   "execution_count": 42,
   "metadata": {},
   "outputs": [],
   "source": [
    "df['Date'] = df['Date'].str.replace('\\ufeff', '') # remove BOM\n",
    "df['Date'] = pd.to_datetime(df['Date'])\n",
    "df['Date'] = df['Date'].dt.date"
   ]
  },
  {
   "cell_type": "code",
   "execution_count": 46,
   "metadata": {},
   "outputs": [
    {
     "data": {
      "text/plain": [
       "0         2019-01-01\n",
       "1         2019-01-01\n",
       "2         2019-01-01\n",
       "3         2019-01-01\n",
       "4         2019-01-01\n",
       "             ...    \n",
       "806707    2019-12-30\n",
       "806708    2019-12-30\n",
       "806709    2019-12-31\n",
       "806710    2019-07-25\n",
       "806711    2019-11-07\n",
       "Name: Date, Length: 806712, dtype: object"
      ]
     },
     "execution_count": 46,
     "metadata": {},
     "output_type": "execute_result"
    }
   ],
   "source": [
    "df['Date']"
   ]
  },
  {
   "attachments": {},
   "cell_type": "markdown",
   "metadata": {},
   "source": [
    "## Booking ID\n",
    "Unique Number - one ID per client, however, it can include their personal care attendent."
   ]
  },
  {
   "attachments": {},
   "cell_type": "markdown",
   "metadata": {},
   "source": [
    "## Requested Pickup Time\n",
    "Driver can arrive 15 min before or after this time"
   ]
  },
  {
   "attachments": {},
   "cell_type": "markdown",
   "metadata": {},
   "source": [
    "## Week Day\n",
    "Monday 01 through Sunday 07"
   ]
  },
  {
   "attachments": {},
   "cell_type": "markdown",
   "metadata": {},
   "source": [
    "## Provider\n",
    "Name of the 3rd Party"
   ]
  },
  {
   "attachments": {},
   "cell_type": "markdown",
   "metadata": {},
   "source": [
    "## Vehicle Type\n",
    "Vehicle Type"
   ]
  },
  {
   "attachments": {},
   "cell_type": "markdown",
   "metadata": {},
   "source": [
    "## Run\n",
    "Run assigments created daily through the scheduling software"
   ]
  },
  {
   "attachments": {},
   "cell_type": "markdown",
   "metadata": {},
   "source": [
    "## Space Type\n",
    "See Code Table Below"
   ]
  },
  {
   "attachments": {},
   "cell_type": "markdown",
   "metadata": {},
   "source": [
    "## Ambulatory\n",
    "Yes = Ambulatory / No = Non-Ambulatory"
   ]
  },
  {
   "attachments": {},
   "cell_type": "markdown",
   "metadata": {},
   "source": [
    "## Origin Postal code\n",
    "Where the client is pick up\n",
    "- Origin1 First 3 characters of the postal code\n",
    "- Origin2 Last 3 characters of the postal code"
   ]
  },
  {
   "attachments": {},
   "cell_type": "markdown",
   "metadata": {},
   "source": [
    "## Pickup Arrival Time\n",
    "Actual time driver arrives\n",
    "## Pickup Departure Time\n",
    "Time it takes for the passenger to board the vehicle"
   ]
  },
  {
   "attachments": {},
   "cell_type": "markdown",
   "metadata": {},
   "source": [
    "## Destination Postal code\n",
    "Where the client is dropped off\n",
    "## Destination1\n",
    "## Destination2"
   ]
  },
  {
   "attachments": {},
   "cell_type": "markdown",
   "metadata": {},
   "source": [
    "## Dropoff Arrival Time\n",
    "The time the vehicle arrives at the destination\n",
    "## Dropoff Departure Time\n",
    "The time it takes the client to alight"
   ]
  },
  {
   "attachments": {},
   "cell_type": "markdown",
   "metadata": {},
   "source": [
    "## Trip Count\n",
    "\\# of passengers"
   ]
  }
 ],
 "metadata": {
  "kernelspec": {
   "display_name": "base",
   "language": "python",
   "name": "python3"
  },
  "language_info": {
   "codemirror_mode": {
    "name": "ipython",
    "version": 3
   },
   "file_extension": ".py",
   "mimetype": "text/x-python",
   "name": "python",
   "nbconvert_exporter": "python",
   "pygments_lexer": "ipython3",
   "version": "3.9.15"
  },
  "orig_nbformat": 4
 },
 "nbformat": 4,
 "nbformat_minor": 2
}
